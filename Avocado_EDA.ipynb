{
 "cells": [
  {
   "cell_type": "code",
   "execution_count": 1,
   "metadata": {},
   "outputs": [],
   "source": [
    "import pandas as pd \n",
    "import matplotlib.pyplot as plt"
   ]
  },
  {
   "cell_type": "markdown",
   "metadata": {},
   "source": [
    "# Read the data"
   ]
  },
  {
   "cell_type": "code",
   "execution_count": 2,
   "metadata": {},
   "outputs": [],
   "source": [
    "df = pd.read_csv(\"avocado.csv\")"
   ]
  },
  {
   "cell_type": "code",
   "execution_count": 3,
   "metadata": {},
   "outputs": [
    {
     "data": {
      "text/html": [
       "<div>\n",
       "<style scoped>\n",
       "    .dataframe tbody tr th:only-of-type {\n",
       "        vertical-align: middle;\n",
       "    }\n",
       "\n",
       "    .dataframe tbody tr th {\n",
       "        vertical-align: top;\n",
       "    }\n",
       "\n",
       "    .dataframe thead th {\n",
       "        text-align: right;\n",
       "    }\n",
       "</style>\n",
       "<table border=\"1\" class=\"dataframe\">\n",
       "  <thead>\n",
       "    <tr style=\"text-align: right;\">\n",
       "      <th></th>\n",
       "      <th>Unnamed: 0</th>\n",
       "      <th>Date</th>\n",
       "      <th>AveragePrice</th>\n",
       "      <th>Total Volume</th>\n",
       "      <th>4046</th>\n",
       "      <th>4225</th>\n",
       "      <th>4770</th>\n",
       "      <th>Total Bags</th>\n",
       "      <th>Small Bags</th>\n",
       "      <th>Large Bags</th>\n",
       "      <th>XLarge Bags</th>\n",
       "      <th>type</th>\n",
       "      <th>year</th>\n",
       "      <th>region</th>\n",
       "    </tr>\n",
       "  </thead>\n",
       "  <tbody>\n",
       "    <tr>\n",
       "      <th>0</th>\n",
       "      <td>0</td>\n",
       "      <td>2015-12-27</td>\n",
       "      <td>1.33</td>\n",
       "      <td>64236.62</td>\n",
       "      <td>1036.74</td>\n",
       "      <td>54454.85</td>\n",
       "      <td>48.16</td>\n",
       "      <td>8696.87</td>\n",
       "      <td>8603.62</td>\n",
       "      <td>93.25</td>\n",
       "      <td>0.0</td>\n",
       "      <td>conventional</td>\n",
       "      <td>2015</td>\n",
       "      <td>Albany</td>\n",
       "    </tr>\n",
       "  </tbody>\n",
       "</table>\n",
       "</div>"
      ],
      "text/plain": [
       "   Unnamed: 0        Date  AveragePrice  Total Volume     4046      4225  \\\n",
       "0           0  2015-12-27          1.33      64236.62  1036.74  54454.85   \n",
       "\n",
       "    4770  Total Bags  Small Bags  Large Bags  XLarge Bags          type  year  \\\n",
       "0  48.16     8696.87     8603.62       93.25          0.0  conventional  2015   \n",
       "\n",
       "   region  \n",
       "0  Albany  "
      ]
     },
     "execution_count": 3,
     "metadata": {},
     "output_type": "execute_result"
    }
   ],
   "source": [
    "df.head(1)"
   ]
  },
  {
   "cell_type": "markdown",
   "metadata": {},
   "source": [
    "# Check the data type"
   ]
  },
  {
   "cell_type": "code",
   "execution_count": 4,
   "metadata": {},
   "outputs": [
    {
     "data": {
      "text/plain": [
       "Unnamed: 0        int64\n",
       "Date             object\n",
       "AveragePrice    float64\n",
       "Total Volume    float64\n",
       "4046            float64\n",
       "4225            float64\n",
       "4770            float64\n",
       "Total Bags      float64\n",
       "Small Bags      float64\n",
       "Large Bags      float64\n",
       "XLarge Bags     float64\n",
       "type             object\n",
       "year              int64\n",
       "region           object\n",
       "dtype: object"
      ]
     },
     "execution_count": 4,
     "metadata": {},
     "output_type": "execute_result"
    }
   ],
   "source": [
    "df.dtypes"
   ]
  },
  {
   "cell_type": "markdown",
   "metadata": {},
   "source": [
    "# Check if there's any Na and drop them"
   ]
  },
  {
   "cell_type": "code",
   "execution_count": 5,
   "metadata": {},
   "outputs": [
    {
     "data": {
      "text/plain": [
       "Unnamed: 0      0\n",
       "Date            0\n",
       "AveragePrice    0\n",
       "Total Volume    0\n",
       "4046            0\n",
       "4225            0\n",
       "4770            0\n",
       "Total Bags      0\n",
       "Small Bags      0\n",
       "Large Bags      0\n",
       "XLarge Bags     0\n",
       "type            0\n",
       "year            0\n",
       "region          0\n",
       "dtype: int64"
      ]
     },
     "execution_count": 5,
     "metadata": {},
     "output_type": "execute_result"
    }
   ],
   "source": [
    "df.isna().sum()"
   ]
  },
  {
   "cell_type": "markdown",
   "metadata": {},
   "source": [
    "# Convert the date type"
   ]
  },
  {
   "cell_type": "code",
   "execution_count": 6,
   "metadata": {},
   "outputs": [],
   "source": [
    "df['Date'] = pd.to_datetime(df['Date'])"
   ]
  },
  {
   "cell_type": "markdown",
   "metadata": {},
   "source": [
    "# Get the revenue"
   ]
  },
  {
   "cell_type": "code",
   "execution_count": 7,
   "metadata": {},
   "outputs": [],
   "source": [
    "df['revenue'] = df['AveragePrice'] * df['Total Volume']"
   ]
  },
  {
   "cell_type": "markdown",
   "metadata": {},
   "source": [
    "# Find which region has the highest revenue"
   ]
  },
  {
   "cell_type": "code",
   "execution_count": 24,
   "metadata": {},
   "outputs": [
    {
     "data": {
      "text/html": [
       "<div>\n",
       "<style scoped>\n",
       "    .dataframe tbody tr th:only-of-type {\n",
       "        vertical-align: middle;\n",
       "    }\n",
       "\n",
       "    .dataframe tbody tr th {\n",
       "        vertical-align: top;\n",
       "    }\n",
       "\n",
       "    .dataframe thead th {\n",
       "        text-align: right;\n",
       "    }\n",
       "</style>\n",
       "<table border=\"1\" class=\"dataframe\">\n",
       "  <thead>\n",
       "    <tr style=\"text-align: right;\">\n",
       "      <th>type</th>\n",
       "      <th>conventional</th>\n",
       "      <th>organic</th>\n",
       "      <th>All</th>\n",
       "    </tr>\n",
       "    <tr>\n",
       "      <th>region</th>\n",
       "      <th></th>\n",
       "      <th></th>\n",
       "      <th></th>\n",
       "    </tr>\n",
       "  </thead>\n",
       "  <tbody>\n",
       "    <tr>\n",
       "      <th>TotalUS</th>\n",
       "      <td>36299028.44</td>\n",
       "      <td>1497380.44</td>\n",
       "      <td>18898204.44</td>\n",
       "    </tr>\n",
       "    <tr>\n",
       "      <th>California</th>\n",
       "      <td>6388388.94</td>\n",
       "      <td>247197.02</td>\n",
       "      <td>3317792.98</td>\n",
       "    </tr>\n",
       "    <tr>\n",
       "      <th>West</th>\n",
       "      <td>5986495.96</td>\n",
       "      <td>326129.22</td>\n",
       "      <td>3156312.59</td>\n",
       "    </tr>\n",
       "    <tr>\n",
       "      <th>Northeast</th>\n",
       "      <td>5420080.00</td>\n",
       "      <td>260439.96</td>\n",
       "      <td>2840259.98</td>\n",
       "    </tr>\n",
       "    <tr>\n",
       "      <th>SouthCentral</th>\n",
       "      <td>5032674.24</td>\n",
       "      <td>139274.22</td>\n",
       "      <td>2585974.23</td>\n",
       "    </tr>\n",
       "    <tr>\n",
       "      <th>Southeast</th>\n",
       "      <td>4068095.31</td>\n",
       "      <td>95399.26</td>\n",
       "      <td>2081747.28</td>\n",
       "    </tr>\n",
       "  </tbody>\n",
       "</table>\n",
       "</div>"
      ],
      "text/plain": [
       "type          conventional     organic          All\n",
       "region                                             \n",
       "TotalUS        36299028.44  1497380.44  18898204.44\n",
       "California      6388388.94   247197.02   3317792.98\n",
       "West            5986495.96   326129.22   3156312.59\n",
       "Northeast       5420080.00   260439.96   2840259.98\n",
       "SouthCentral    5032674.24   139274.22   2585974.23\n",
       "Southeast       4068095.31    95399.26   2081747.28"
      ]
     },
     "execution_count": 24,
     "metadata": {},
     "output_type": "execute_result"
    }
   ],
   "source": [
    "pd.crosstab(index= df['region'],\n",
    "           columns= df['type'],\n",
    "           values= df['revenue'],\n",
    "           aggfunc= 'mean',\n",
    "           margins= True).\\\n",
    "round(2).\\\n",
    "sort_values(by='All', ascending=False).\\\n",
    "head(6)"
   ]
  },
  {
   "cell_type": "markdown",
   "metadata": {},
   "source": [
    "# Convert the date to quarter period"
   ]
  },
  {
   "cell_type": "code",
   "execution_count": 9,
   "metadata": {},
   "outputs": [],
   "source": [
    "df['quarter'] = df['Date'].dt.to_period('Q')"
   ]
  },
  {
   "cell_type": "markdown",
   "metadata": {},
   "source": [
    "# Suppose we look into avocado's sales in California region"
   ]
  },
  {
   "cell_type": "code",
   "execution_count": 15,
   "metadata": {},
   "outputs": [
    {
     "data": {
      "text/html": [
       "<div>\n",
       "<style scoped>\n",
       "    .dataframe tbody tr th:only-of-type {\n",
       "        vertical-align: middle;\n",
       "    }\n",
       "\n",
       "    .dataframe tbody tr th {\n",
       "        vertical-align: top;\n",
       "    }\n",
       "\n",
       "    .dataframe thead th {\n",
       "        text-align: right;\n",
       "    }\n",
       "</style>\n",
       "<table border=\"1\" class=\"dataframe\">\n",
       "  <thead>\n",
       "    <tr style=\"text-align: right;\">\n",
       "      <th></th>\n",
       "      <th>Unnamed: 0</th>\n",
       "      <th>Date</th>\n",
       "      <th>AveragePrice</th>\n",
       "      <th>Total Volume</th>\n",
       "      <th>4046</th>\n",
       "      <th>4225</th>\n",
       "      <th>4770</th>\n",
       "      <th>Total Bags</th>\n",
       "      <th>Small Bags</th>\n",
       "      <th>Large Bags</th>\n",
       "      <th>XLarge Bags</th>\n",
       "      <th>type</th>\n",
       "      <th>year</th>\n",
       "      <th>region</th>\n",
       "      <th>revenue</th>\n",
       "      <th>quarter</th>\n",
       "    </tr>\n",
       "  </thead>\n",
       "  <tbody>\n",
       "    <tr>\n",
       "      <th>312</th>\n",
       "      <td>0</td>\n",
       "      <td>2015-12-27</td>\n",
       "      <td>0.9</td>\n",
       "      <td>5040365.47</td>\n",
       "      <td>1833946.59</td>\n",
       "      <td>1760956.02</td>\n",
       "      <td>232755.85</td>\n",
       "      <td>1212707.01</td>\n",
       "      <td>1090140.07</td>\n",
       "      <td>110737.35</td>\n",
       "      <td>11829.59</td>\n",
       "      <td>conventional</td>\n",
       "      <td>2015</td>\n",
       "      <td>California</td>\n",
       "      <td>4536328.923</td>\n",
       "      <td>2015Q4</td>\n",
       "    </tr>\n",
       "  </tbody>\n",
       "</table>\n",
       "</div>"
      ],
      "text/plain": [
       "     Unnamed: 0       Date  AveragePrice  Total Volume        4046  \\\n",
       "312           0 2015-12-27           0.9    5040365.47  1833946.59   \n",
       "\n",
       "           4225       4770  Total Bags  Small Bags  Large Bags  XLarge Bags  \\\n",
       "312  1760956.02  232755.85  1212707.01  1090140.07   110737.35     11829.59   \n",
       "\n",
       "             type  year      region      revenue quarter  \n",
       "312  conventional  2015  California  4536328.923  2015Q4  "
      ]
     },
     "execution_count": 15,
     "metadata": {},
     "output_type": "execute_result"
    }
   ],
   "source": [
    "cal = df[df['region'] == \"California\"]\n",
    "cal.head(1)"
   ]
  },
  {
   "cell_type": "markdown",
   "metadata": {},
   "source": [
    "# Get the revenue info on both of the avocado's types in quarterly"
   ]
  },
  {
   "cell_type": "code",
   "execution_count": 26,
   "metadata": {},
   "outputs": [
    {
     "data": {
      "text/html": [
       "<div>\n",
       "<style scoped>\n",
       "    .dataframe tbody tr th:only-of-type {\n",
       "        vertical-align: middle;\n",
       "    }\n",
       "\n",
       "    .dataframe tbody tr th {\n",
       "        vertical-align: top;\n",
       "    }\n",
       "\n",
       "    .dataframe thead th {\n",
       "        text-align: right;\n",
       "    }\n",
       "</style>\n",
       "<table border=\"1\" class=\"dataframe\">\n",
       "  <thead>\n",
       "    <tr style=\"text-align: right;\">\n",
       "      <th>type</th>\n",
       "      <th>conventional</th>\n",
       "      <th>organic</th>\n",
       "      <th>All</th>\n",
       "    </tr>\n",
       "    <tr>\n",
       "      <th>quarter</th>\n",
       "      <th></th>\n",
       "      <th></th>\n",
       "      <th></th>\n",
       "    </tr>\n",
       "  </thead>\n",
       "  <tbody>\n",
       "    <tr>\n",
       "      <th>2015Q1</th>\n",
       "      <td>5775480.52</td>\n",
       "      <td>186550.70</td>\n",
       "      <td>2981015.61</td>\n",
       "    </tr>\n",
       "    <tr>\n",
       "      <th>2015Q2</th>\n",
       "      <td>6232256.07</td>\n",
       "      <td>192799.16</td>\n",
       "      <td>3212527.62</td>\n",
       "    </tr>\n",
       "    <tr>\n",
       "      <th>2015Q3</th>\n",
       "      <td>6207290.09</td>\n",
       "      <td>186178.25</td>\n",
       "      <td>3196734.17</td>\n",
       "    </tr>\n",
       "    <tr>\n",
       "      <th>2015Q4</th>\n",
       "      <td>4844614.00</td>\n",
       "      <td>150395.09</td>\n",
       "      <td>2497504.54</td>\n",
       "    </tr>\n",
       "    <tr>\n",
       "      <th>2016Q1</th>\n",
       "      <td>5834509.39</td>\n",
       "      <td>229660.20</td>\n",
       "      <td>3032084.79</td>\n",
       "    </tr>\n",
       "    <tr>\n",
       "      <th>2016Q2</th>\n",
       "      <td>6212590.30</td>\n",
       "      <td>291880.09</td>\n",
       "      <td>3252235.19</td>\n",
       "    </tr>\n",
       "    <tr>\n",
       "      <th>2016Q3</th>\n",
       "      <td>7062174.96</td>\n",
       "      <td>292260.87</td>\n",
       "      <td>3677217.92</td>\n",
       "    </tr>\n",
       "    <tr>\n",
       "      <th>2016Q4</th>\n",
       "      <td>5633479.40</td>\n",
       "      <td>229033.88</td>\n",
       "      <td>2931256.64</td>\n",
       "    </tr>\n",
       "    <tr>\n",
       "      <th>2017Q1</th>\n",
       "      <td>6417093.47</td>\n",
       "      <td>270775.36</td>\n",
       "      <td>3343934.42</td>\n",
       "    </tr>\n",
       "    <tr>\n",
       "      <th>2017Q2</th>\n",
       "      <td>7596646.11</td>\n",
       "      <td>318913.75</td>\n",
       "      <td>3957779.93</td>\n",
       "    </tr>\n",
       "    <tr>\n",
       "      <th>2017Q3</th>\n",
       "      <td>7656470.79</td>\n",
       "      <td>290739.54</td>\n",
       "      <td>3973605.16</td>\n",
       "    </tr>\n",
       "    <tr>\n",
       "      <th>2017Q4</th>\n",
       "      <td>6437057.00</td>\n",
       "      <td>249834.15</td>\n",
       "      <td>3343445.57</td>\n",
       "    </tr>\n",
       "    <tr>\n",
       "      <th>2018Q1</th>\n",
       "      <td>7197922.18</td>\n",
       "      <td>330765.70</td>\n",
       "      <td>3764343.94</td>\n",
       "    </tr>\n",
       "    <tr>\n",
       "      <th>All</th>\n",
       "      <td>6388388.94</td>\n",
       "      <td>247197.02</td>\n",
       "      <td>3317792.98</td>\n",
       "    </tr>\n",
       "  </tbody>\n",
       "</table>\n",
       "</div>"
      ],
      "text/plain": [
       "type     conventional    organic         All\n",
       "quarter                                     \n",
       "2015Q1     5775480.52  186550.70  2981015.61\n",
       "2015Q2     6232256.07  192799.16  3212527.62\n",
       "2015Q3     6207290.09  186178.25  3196734.17\n",
       "2015Q4     4844614.00  150395.09  2497504.54\n",
       "2016Q1     5834509.39  229660.20  3032084.79\n",
       "2016Q2     6212590.30  291880.09  3252235.19\n",
       "2016Q3     7062174.96  292260.87  3677217.92\n",
       "2016Q4     5633479.40  229033.88  2931256.64\n",
       "2017Q1     6417093.47  270775.36  3343934.42\n",
       "2017Q2     7596646.11  318913.75  3957779.93\n",
       "2017Q3     7656470.79  290739.54  3973605.16\n",
       "2017Q4     6437057.00  249834.15  3343445.57\n",
       "2018Q1     7197922.18  330765.70  3764343.94\n",
       "All        6388388.94  247197.02  3317792.98"
      ]
     },
     "execution_count": 26,
     "metadata": {},
     "output_type": "execute_result"
    }
   ],
   "source": [
    "cal1 = pd.crosstab(index= cal['quarter'],\n",
    "           columns= cal['type'],\n",
    "           values= cal['revenue'],\n",
    "           aggfunc= 'mean',\n",
    "           margins= True).\\\n",
    "round(2)\n",
    "\n",
    "cal1"
   ]
  },
  {
   "cell_type": "markdown",
   "metadata": {},
   "source": [
    "# Visualize them"
   ]
  },
  {
   "cell_type": "code",
   "execution_count": 25,
   "metadata": {},
   "outputs": [
    {
     "data": {
      "text/plain": [
       "<matplotlib.axes._subplots.AxesSubplot at 0x20eb6fb0c10>"
      ]
     },
     "execution_count": 25,
     "metadata": {},
     "output_type": "execute_result"
    },
    {
     "data": {
      "image/png": "[encoded data removed]",
      "text/plain": [
       "<Figure size 432x288 with 1 Axes>"
      ]
     },
     "metadata": {
      "needs_background": "light"
     },
     "output_type": "display_data"
    }
   ],
   "source": [
    "cal1.plot.bar(stacked=True, legend=True)"
   ]
  },
  {
   "cell_type": "markdown",
   "metadata": {},
   "source": [
    "# See which are the most avocado's types and codes sold"
   ]
  },
  {
   "cell_type": "code",
   "execution_count": 33,
   "metadata": {},
   "outputs": [
    {
     "data": {
      "text/plain": [
       "398967013.0"
      ]
     },
     "execution_count": 33,
     "metadata": {},
     "output_type": "execute_result"
    }
   ],
   "source": [
    "cal['4046'].sum().round()"
   ]
  },
  {
   "cell_type": "code",
   "execution_count": 32,
   "metadata": {},
   "outputs": [
    {
     "data": {
      "text/plain": [
       "351491402.0"
      ]
     },
     "execution_count": 32,
     "metadata": {},
     "output_type": "execute_result"
    }
   ],
   "source": [
    "cal['4225'].sum().round()"
   ]
  },
  {
   "cell_type": "code",
   "execution_count": 31,
   "metadata": {},
   "outputs": [
    {
     "data": {
      "text/plain": [
       "31841046.0"
      ]
     },
     "execution_count": 31,
     "metadata": {},
     "output_type": "execute_result"
    }
   ],
   "source": [
    "cal['4770'].sum().round()"
   ]
  },
  {
   "cell_type": "code",
   "execution_count": 29,
   "metadata": {},
   "outputs": [
    {
     "data": {
      "text/plain": [
       "229097680.0"
      ]
     },
     "execution_count": 29,
     "metadata": {},
     "output_type": "execute_result"
    }
   ],
   "source": [
    "cal['Small Bags'].sum().round()"
   ]
  },
  {
   "cell_type": "code",
   "execution_count": 28,
   "metadata": {},
   "outputs": [
    {
     "data": {
      "text/plain": [
       "12311936.0"
      ]
     },
     "execution_count": 28,
     "metadata": {},
     "output_type": "execute_result"
    }
   ],
   "source": [
    "cal['Large Bags'].sum().round()"
   ]
  },
  {
   "cell_type": "code",
   "execution_count": 30,
   "metadata": {},
   "outputs": [
    {
     "data": {
      "text/plain": [
       "5272578.0"
      ]
     },
     "execution_count": 30,
     "metadata": {},
     "output_type": "execute_result"
    }
   ],
   "source": [
    "cal['XLarge Bags'].sum().round()"
   ]
  },
  {
   "cell_type": "markdown",
   "metadata": {},
   "source": [
    "# Conclusion "
   ]
  },
  {
   "cell_type": "markdown",
   "metadata": {},
   "source": [
    "Our avocado sales for the last 3 years (2015 - 2018) has an interresting fluctuations which distributed to all across USA region.\n",
    "\n",
    "> Say we have `marketing research problem`:\n",
    "1. Which regions are sold the most avocados? \n",
    "2. which period our avocado's sales has the highest and lowest revenue in the top region?\n",
    "3. How our consumer behavior gives impact?\n",
    "4. What are the most favorable types of avocados sold?\n",
    "\n",
    "**Answer**\n",
    "\n",
    "1. Top 5 regions which sold sold the most avocado are:\n",
    " - California\n",
    " - West\n",
    " - North East\n",
    " - South East\n",
    " - South Central\n",
    "\n",
    "2. California region\n",
    " - The data of avocado's sales in California shown that the revenue during 3 years is USD 3,317,792.98 (average)\n",
    " - The highest revenue reported in the period of third quarter in 2017 (USD 3,973,605.16 by average)\n",
    " - The lowest is the last quarter in 2015 (USD 2,497,504.54 by average)\n",
    "\n",
    "3. Consumer behavior\n",
    " - People have discovered or at least strongly believe the avocados are a \"superfood\" and are considered very healthy and since healthy food is a big trend lately and avocados just happen to be one of the items that has a pretty mild taste that people enjoy.\n",
    " - The weather in the USA during the third quarter are Summer (July and August) and Fall (September) and generally avocado season in California is from Spring through Summer\n",
    " - These seasons attract both local and international tourists to visit the USA, because during Summer, Northern States enjoy warm-even hot-days and cooler mornings and nights, while Southern States and tropical areas experience very hot temperatures. In the Fall, temperatures begin to cool down around the country. \n",
    " - These are the reason why the restaurants in the USA are selling so many avocado dishes.\n",
    " - Despite by the political reason which the most tangible explanation is that the rise of avocados in the USA comes on the heels of loosened import restrictions, which used to ban shipments of the fruit from Mexico. The restrictions were problematic, because Mexico still the world's largest producer.\n",
    " - On the other hand, during the last quarter, the USA season are Fall and Winter and the demands for avocado is in decline.\n",
    "  - The avocado stocks might be finished during this quarter.\n",
    "  - Most of Americans are more buying tangerine, kiwi, and other winter-reaped-fruit.\n",
    "  \n",
    "4. The code 4046 (The smallest typical size) is the most favorable size avocado that the consumer attracted to and consumers are most likely buying small bags as well."
   ]
  },
  {
   "cell_type": "markdown",
   "metadata": {},
   "source": [
    "# Suggestions"
   ]
  },
  {
   "cell_type": "markdown",
   "metadata": {},
   "source": [
    "> `Management decision problem`:\n",
    "1. How to generate the revenue?\n",
    "\n",
    "**Answer**\n",
    "\n",
    " - During the reap season of avocado, we want to keep some and freeze them until the last quarter to put them on sale.\n",
    " - The water in avocados expands when frozen, so the fruit may loses its texture and get mushy after thawing, \n",
    " - we sell the avocado in their peeled, seeded, wrapped form in the freezer bag.\n",
    " - Pitch the frozen avocados into the hospitality industries where they would need avocados the most during the low season of avocado.\n",
    " - Put the bundling package on medium and XL bags with the code 4225 and 4770 by discount \n"
   ]
  },
  {
   "cell_type": "code",
   "execution_count": null,
   "metadata": {},
   "outputs": [],
   "source": []
  }
 ],
 "metadata": {
  "kernelspec": {
   "display_name": "algortima",
   "language": "python",
   "name": "algortima"
  },
  "language_info": {
   "codemirror_mode": {
    "name": "ipython",
    "version": 3
   },
   "file_extension": ".py",
   "mimetype": "text/x-python",
   "name": "python",
   "nbconvert_exporter": "python",
   "pygments_lexer": "ipython3",
   "version": "3.8.2"
  },
  "toc": {
   "base_numbering": 1,
   "nav_menu": {},
   "number_sections": true,
   "sideBar": true,
   "skip_h1_title": false,
   "title_cell": "Table of Contents",
   "title_sidebar": "Contents",
   "toc_cell": false,
   "toc_position": {},
   "toc_section_display": true,
   "toc_window_display": false
  }
 },
 "nbformat": 4,
 "nbformat_minor": 2
}
